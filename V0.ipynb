{
  "cells": [
    {
      "cell_type": "markdown",
      "metadata": {
        "id": "R7SrfZS8a3O3"
      },
      "source": [
        "# **Starter**"
      ]
    },
    {
      "cell_type": "code",
      "execution_count": null,
      "metadata": {
        "colab": {
          "base_uri": "https://localhost:8080/"
        },
        "id": "u5N3DYdxaw8w",
        "outputId": "0167ce22-0f37-494e-9661-53337b5c6fd2"
      },
      "outputs": [
        {
          "name": "stdout",
          "output_type": "stream",
          "text": [
            "Mounted at /content/drive\n"
          ]
        }
      ],
      "source": [
        "from google.colab import drive\n",
        "\n",
        "drive.mount('/content/drive')"
      ]
    },
    {
      "cell_type": "code",
      "execution_count": null,
      "metadata": {
        "id": "iJoUcrxGa5Rk"
      },
      "outputs": [],
      "source": [
        "import pandas as pd\n",
        "\n",
        "PATH = '/content/drive/MyDrive/Voice Spoof/ASVspoof2021_LA_eval/flac'\n",
        "df = pd.read_csv('/content/drive/MyDrive/Voice Spoof/keys/LA/CM/trial_metadata.txt', delimiter=' ', header = None)\n",
        "df = df.rename(columns={1: 'file_name'})\n",
        "df = df.rename(columns={5: 'labels'})"
      ]
    },
    {
      "cell_type": "code",
      "execution_count": null,
      "metadata": {
        "colab": {
          "base_uri": "https://localhost:8080/",
          "height": 206
        },
        "id": "DpL-8ld1bBOT",
        "outputId": "80f1d490-18c3-4324-aeed-c7c55e5ac350"
      },
      "outputs": [
        {
          "data": {
            "text/html": [
              "\n",
              "  <div id=\"df-b6f41cbc-88cb-457e-974e-52c7bdea4da3\" class=\"colab-df-container\">\n",
              "    <div>\n",
              "<style scoped>\n",
              "    .dataframe tbody tr th:only-of-type {\n",
              "        vertical-align: middle;\n",
              "    }\n",
              "\n",
              "    .dataframe tbody tr th {\n",
              "        vertical-align: top;\n",
              "    }\n",
              "\n",
              "    .dataframe thead th {\n",
              "        text-align: right;\n",
              "    }\n",
              "</style>\n",
              "<table border=\"1\" class=\"dataframe\">\n",
              "  <thead>\n",
              "    <tr style=\"text-align: right;\">\n",
              "      <th></th>\n",
              "      <th>0</th>\n",
              "      <th>file_name</th>\n",
              "      <th>2</th>\n",
              "      <th>3</th>\n",
              "      <th>4</th>\n",
              "      <th>labels</th>\n",
              "      <th>6</th>\n",
              "      <th>7</th>\n",
              "    </tr>\n",
              "  </thead>\n",
              "  <tbody>\n",
              "    <tr>\n",
              "      <th>0</th>\n",
              "      <td>LA_0009</td>\n",
              "      <td>LA_E_9332881</td>\n",
              "      <td>alaw</td>\n",
              "      <td>ita_tx</td>\n",
              "      <td>A07</td>\n",
              "      <td>spoof</td>\n",
              "      <td>notrim</td>\n",
              "      <td>eval</td>\n",
              "    </tr>\n",
              "    <tr>\n",
              "      <th>1</th>\n",
              "      <td>LA_0009</td>\n",
              "      <td>LA_E_6866159</td>\n",
              "      <td>alaw</td>\n",
              "      <td>ita_tx</td>\n",
              "      <td>A07</td>\n",
              "      <td>spoof</td>\n",
              "      <td>notrim</td>\n",
              "      <td>eval</td>\n",
              "    </tr>\n",
              "    <tr>\n",
              "      <th>2</th>\n",
              "      <td>LA_0009</td>\n",
              "      <td>LA_E_5464494</td>\n",
              "      <td>alaw</td>\n",
              "      <td>sin_tx</td>\n",
              "      <td>A07</td>\n",
              "      <td>spoof</td>\n",
              "      <td>notrim</td>\n",
              "      <td>eval</td>\n",
              "    </tr>\n",
              "    <tr>\n",
              "      <th>3</th>\n",
              "      <td>LA_0009</td>\n",
              "      <td>LA_E_4759417</td>\n",
              "      <td>alaw</td>\n",
              "      <td>sin_tx</td>\n",
              "      <td>A07</td>\n",
              "      <td>spoof</td>\n",
              "      <td>notrim</td>\n",
              "      <td>eval</td>\n",
              "    </tr>\n",
              "    <tr>\n",
              "      <th>4</th>\n",
              "      <td>LA_0009</td>\n",
              "      <td>LA_E_2667748</td>\n",
              "      <td>alaw</td>\n",
              "      <td>loc_tx</td>\n",
              "      <td>A07</td>\n",
              "      <td>spoof</td>\n",
              "      <td>notrim</td>\n",
              "      <td>eval</td>\n",
              "    </tr>\n",
              "  </tbody>\n",
              "</table>\n",
              "</div>\n",
              "    <div class=\"colab-df-buttons\">\n",
              "\n",
              "  <div class=\"colab-df-container\">\n",
              "    <button class=\"colab-df-convert\" onclick=\"convertToInteractive('df-b6f41cbc-88cb-457e-974e-52c7bdea4da3')\"\n",
              "            title=\"Convert this dataframe to an interactive table.\"\n",
              "            style=\"display:none;\">\n",
              "\n",
              "  <svg xmlns=\"http://www.w3.org/2000/svg\" height=\"24px\" viewBox=\"0 -960 960 960\">\n",
              "    <path d=\"M120-120v-720h720v720H120Zm60-500h600v-160H180v160Zm220 220h160v-160H400v160Zm0 220h160v-160H400v160ZM180-400h160v-160H180v160Zm440 0h160v-160H620v160ZM180-180h160v-160H180v160Zm440 0h160v-160H620v160Z\"/>\n",
              "  </svg>\n",
              "    </button>\n",
              "\n",
              "  <style>\n",
              "    .colab-df-container {\n",
              "      display:flex;\n",
              "      gap: 12px;\n",
              "    }\n",
              "\n",
              "    .colab-df-convert {\n",
              "      background-color: #E8F0FE;\n",
              "      border: none;\n",
              "      border-radius: 50%;\n",
              "      cursor: pointer;\n",
              "      display: none;\n",
              "      fill: #1967D2;\n",
              "      height: 32px;\n",
              "      padding: 0 0 0 0;\n",
              "      width: 32px;\n",
              "    }\n",
              "\n",
              "    .colab-df-convert:hover {\n",
              "      background-color: #E2EBFA;\n",
              "      box-shadow: 0px 1px 2px rgba(60, 64, 67, 0.3), 0px 1px 3px 1px rgba(60, 64, 67, 0.15);\n",
              "      fill: #174EA6;\n",
              "    }\n",
              "\n",
              "    .colab-df-buttons div {\n",
              "      margin-bottom: 4px;\n",
              "    }\n",
              "\n",
              "    [theme=dark] .colab-df-convert {\n",
              "      background-color: #3B4455;\n",
              "      fill: #D2E3FC;\n",
              "    }\n",
              "\n",
              "    [theme=dark] .colab-df-convert:hover {\n",
              "      background-color: #434B5C;\n",
              "      box-shadow: 0px 1px 3px 1px rgba(0, 0, 0, 0.15);\n",
              "      filter: drop-shadow(0px 1px 2px rgba(0, 0, 0, 0.3));\n",
              "      fill: #FFFFFF;\n",
              "    }\n",
              "  </style>\n",
              "\n",
              "    <script>\n",
              "      const buttonEl =\n",
              "        document.querySelector('#df-b6f41cbc-88cb-457e-974e-52c7bdea4da3 button.colab-df-convert');\n",
              "      buttonEl.style.display =\n",
              "        google.colab.kernel.accessAllowed ? 'block' : 'none';\n",
              "\n",
              "      async function convertToInteractive(key) {\n",
              "        const element = document.querySelector('#df-b6f41cbc-88cb-457e-974e-52c7bdea4da3');\n",
              "        const dataTable =\n",
              "          await google.colab.kernel.invokeFunction('convertToInteractive',\n",
              "                                                    [key], {});\n",
              "        if (!dataTable) return;\n",
              "\n",
              "        const docLinkHtml = 'Like what you see? Visit the ' +\n",
              "          '<a target=\"_blank\" href=https://colab.research.google.com/notebooks/data_table.ipynb>data table notebook</a>'\n",
              "          + ' to learn more about interactive tables.';\n",
              "        element.innerHTML = '';\n",
              "        dataTable['output_type'] = 'display_data';\n",
              "        await google.colab.output.renderOutput(dataTable, element);\n",
              "        const docLink = document.createElement('div');\n",
              "        docLink.innerHTML = docLinkHtml;\n",
              "        element.appendChild(docLink);\n",
              "      }\n",
              "    </script>\n",
              "  </div>\n",
              "\n",
              "\n",
              "<div id=\"df-7e929397-962a-4cb1-bcbb-f28e788a1628\">\n",
              "  <button class=\"colab-df-quickchart\" onclick=\"quickchart('df-7e929397-962a-4cb1-bcbb-f28e788a1628')\"\n",
              "            title=\"Suggest charts\"\n",
              "            style=\"display:none;\">\n",
              "\n",
              "<svg xmlns=\"http://www.w3.org/2000/svg\" height=\"24px\"viewBox=\"0 0 24 24\"\n",
              "     width=\"24px\">\n",
              "    <g>\n",
              "        <path d=\"M19 3H5c-1.1 0-2 .9-2 2v14c0 1.1.9 2 2 2h14c1.1 0 2-.9 2-2V5c0-1.1-.9-2-2-2zM9 17H7v-7h2v7zm4 0h-2V7h2v10zm4 0h-2v-4h2v4z\"/>\n",
              "    </g>\n",
              "</svg>\n",
              "  </button>\n",
              "\n",
              "<style>\n",
              "  .colab-df-quickchart {\n",
              "      --bg-color: #E8F0FE;\n",
              "      --fill-color: #1967D2;\n",
              "      --hover-bg-color: #E2EBFA;\n",
              "      --hover-fill-color: #174EA6;\n",
              "      --disabled-fill-color: #AAA;\n",
              "      --disabled-bg-color: #DDD;\n",
              "  }\n",
              "\n",
              "  [theme=dark] .colab-df-quickchart {\n",
              "      --bg-color: #3B4455;\n",
              "      --fill-color: #D2E3FC;\n",
              "      --hover-bg-color: #434B5C;\n",
              "      --hover-fill-color: #FFFFFF;\n",
              "      --disabled-bg-color: #3B4455;\n",
              "      --disabled-fill-color: #666;\n",
              "  }\n",
              "\n",
              "  .colab-df-quickchart {\n",
              "    background-color: var(--bg-color);\n",
              "    border: none;\n",
              "    border-radius: 50%;\n",
              "    cursor: pointer;\n",
              "    display: none;\n",
              "    fill: var(--fill-color);\n",
              "    height: 32px;\n",
              "    padding: 0;\n",
              "    width: 32px;\n",
              "  }\n",
              "\n",
              "  .colab-df-quickchart:hover {\n",
              "    background-color: var(--hover-bg-color);\n",
              "    box-shadow: 0 1px 2px rgba(60, 64, 67, 0.3), 0 1px 3px 1px rgba(60, 64, 67, 0.15);\n",
              "    fill: var(--button-hover-fill-color);\n",
              "  }\n",
              "\n",
              "  .colab-df-quickchart-complete:disabled,\n",
              "  .colab-df-quickchart-complete:disabled:hover {\n",
              "    background-color: var(--disabled-bg-color);\n",
              "    fill: var(--disabled-fill-color);\n",
              "    box-shadow: none;\n",
              "  }\n",
              "\n",
              "  .colab-df-spinner {\n",
              "    border: 2px solid var(--fill-color);\n",
              "    border-color: transparent;\n",
              "    border-bottom-color: var(--fill-color);\n",
              "    animation:\n",
              "      spin 1s steps(1) infinite;\n",
              "  }\n",
              "\n",
              "  @keyframes spin {\n",
              "    0% {\n",
              "      border-color: transparent;\n",
              "      border-bottom-color: var(--fill-color);\n",
              "      border-left-color: var(--fill-color);\n",
              "    }\n",
              "    20% {\n",
              "      border-color: transparent;\n",
              "      border-left-color: var(--fill-color);\n",
              "      border-top-color: var(--fill-color);\n",
              "    }\n",
              "    30% {\n",
              "      border-color: transparent;\n",
              "      border-left-color: var(--fill-color);\n",
              "      border-top-color: var(--fill-color);\n",
              "      border-right-color: var(--fill-color);\n",
              "    }\n",
              "    40% {\n",
              "      border-color: transparent;\n",
              "      border-right-color: var(--fill-color);\n",
              "      border-top-color: var(--fill-color);\n",
              "    }\n",
              "    60% {\n",
              "      border-color: transparent;\n",
              "      border-right-color: var(--fill-color);\n",
              "    }\n",
              "    80% {\n",
              "      border-color: transparent;\n",
              "      border-right-color: var(--fill-color);\n",
              "      border-bottom-color: var(--fill-color);\n",
              "    }\n",
              "    90% {\n",
              "      border-color: transparent;\n",
              "      border-bottom-color: var(--fill-color);\n",
              "    }\n",
              "  }\n",
              "</style>\n",
              "\n",
              "  <script>\n",
              "    async function quickchart(key) {\n",
              "      const quickchartButtonEl =\n",
              "        document.querySelector('#' + key + ' button');\n",
              "      quickchartButtonEl.disabled = true;  // To prevent multiple clicks.\n",
              "      quickchartButtonEl.classList.add('colab-df-spinner');\n",
              "      try {\n",
              "        const charts = await google.colab.kernel.invokeFunction(\n",
              "            'suggestCharts', [key], {});\n",
              "      } catch (error) {\n",
              "        console.error('Error during call to suggestCharts:', error);\n",
              "      }\n",
              "      quickchartButtonEl.classList.remove('colab-df-spinner');\n",
              "      quickchartButtonEl.classList.add('colab-df-quickchart-complete');\n",
              "    }\n",
              "    (() => {\n",
              "      let quickchartButtonEl =\n",
              "        document.querySelector('#df-7e929397-962a-4cb1-bcbb-f28e788a1628 button');\n",
              "      quickchartButtonEl.style.display =\n",
              "        google.colab.kernel.accessAllowed ? 'block' : 'none';\n",
              "    })();\n",
              "  </script>\n",
              "</div>\n",
              "    </div>\n",
              "  </div>\n"
            ],
            "text/plain": [
              "         0     file_name     2       3    4 labels       6     7\n",
              "0  LA_0009  LA_E_9332881  alaw  ita_tx  A07  spoof  notrim  eval\n",
              "1  LA_0009  LA_E_6866159  alaw  ita_tx  A07  spoof  notrim  eval\n",
              "2  LA_0009  LA_E_5464494  alaw  sin_tx  A07  spoof  notrim  eval\n",
              "3  LA_0009  LA_E_4759417  alaw  sin_tx  A07  spoof  notrim  eval\n",
              "4  LA_0009  LA_E_2667748  alaw  loc_tx  A07  spoof  notrim  eval"
            ]
          },
          "execution_count": 3,
          "metadata": {},
          "output_type": "execute_result"
        }
      ],
      "source": [
        "df.head()\n"
      ]
    },
    {
      "cell_type": "code",
      "execution_count": null,
      "metadata": {
        "colab": {
          "base_uri": "https://localhost:8080/"
        },
        "id": "lJiNXNr2bFLF",
        "outputId": "16c4a848-35ca-4468-c116-0a2cac3e4d04"
      },
      "outputs": [
        {
          "name": "stdout",
          "output_type": "stream",
          "text": [
            "Number of files in '/content/drive/MyDrive/Voice Spoof/ASVspoof2021_LA_eval/flac': 56251\n"
          ]
        }
      ],
      "source": [
        "# import os\n",
        "\n",
        "# folder_path = '/content/drive/MyDrive/Voice Spoof/ASVspoof2021_LA_eval/flac'\n",
        "\n",
        "# # Ensure the folder path is correct and exists\n",
        "# if os.path.exists(folder_path) and os.path.isdir(folder_path):\n",
        "#     # List all files in the folder\n",
        "#     files = os.listdir(folder_path)\n",
        "\n",
        "#     # Filter out only files (not directories)\n",
        "#     files = [file for file in files if os.path.isfile(os.path.join(folder_path, file))]\n",
        "\n",
        "#     # Print the number of files\n",
        "#     print(f\"Number of files in '{folder_path}': {len(files)}\")\n",
        "# else:\n",
        "#     print(f\"The folder '{folder_path}' does not exist.\")\n"
      ]
    },
    {
      "cell_type": "code",
      "execution_count": null,
      "metadata": {
        "id": "AOIKSFWIbKLN"
      },
      "outputs": [],
      "source": [
        "# # Create a new DataFrame from the new data\n",
        "# df_files = pd.DataFrame({'file_name': files})\n",
        "# df['file_name'] = df['file_name'] + '.flac'\n",
        "\n",
        "merged_df = pd.read_csv(\"/content/drive/MyDrive/Voice Spoof/merged_data.csv\")\n",
        "merged_df[\"labels\"] = merged_df[\"labels\"].replace({'spoof': 0, 'bonafide': 1}) # 0 ปลอม, 1 จริง"
      ]
    },
    {
      "cell_type": "code",
      "execution_count": null,
      "metadata": {
        "colab": {
          "base_uri": "https://localhost:8080/"
        },
        "id": "8fVx7t48bM-X",
        "outputId": "0883a8df-edcd-4608-f886-2b6c813ab49e"
      },
      "outputs": [
        {
          "data": {
            "text/plain": [
              "eval        45952\n",
              "hidden       5244\n",
              "progress     5055\n",
              "Name: 7, dtype: int64"
            ]
          },
          "execution_count": 5,
          "metadata": {},
          "output_type": "execute_result"
        }
      ],
      "source": [
        "merged_df[\"7\"].value_counts()"
      ]
    },
    {
      "cell_type": "code",
      "execution_count": null,
      "metadata": {
        "id": "1XqDWHlubizI"
      },
      "outputs": [],
      "source": [
        "# # Save the merged DataFrame to a CSV file\n",
        "# merged_df.to_csv('/content/drive/MyDrive/Voice Spoof/merged_data.csv', index=False)"
      ]
    },
    {
      "cell_type": "code",
      "execution_count": null,
      "metadata": {
        "id": "6hDdB8oZbPJO"
      },
      "outputs": [],
      "source": [
        "eval = merged_df[merged_df[\"7\"] == 'eval'] # test\n",
        "hidden = merged_df[merged_df[\"7\"] == 'hidden'] # eval\n",
        "progress = merged_df[merged_df[\"7\"] == 'progress'] # train"
      ]
    },
    {
      "cell_type": "code",
      "execution_count": null,
      "metadata": {
        "colab": {
          "base_uri": "https://localhost:8080/"
        },
        "id": "r565b6u1OxX8",
        "outputId": "755b326e-2482-4501-bf66-7962fa19d020"
      },
      "outputs": [
        {
          "data": {
            "text/plain": [
              "0    4539\n",
              "1     516\n",
              "Name: labels, dtype: int64"
            ]
          },
          "execution_count": 8,
          "metadata": {},
          "output_type": "execute_result"
        }
      ],
      "source": [
        "progress[\"labels\"].value_counts()"
      ]
    },
    {
      "cell_type": "code",
      "execution_count": null,
      "metadata": {
        "colab": {
          "base_uri": "https://localhost:8080/"
        },
        "id": "5f_0-u9_IvS5",
        "outputId": "c8993b6e-2469-494e-e73a-b6c5f211ac05"
      },
      "outputs": [
        {
          "data": {
            "text/plain": [
              "0    4647\n",
              "1     597\n",
              "Name: labels, dtype: int64"
            ]
          },
          "execution_count": 9,
          "metadata": {},
          "output_type": "execute_result"
        }
      ],
      "source": [
        "hidden[\"labels\"].value_counts()"
      ]
    },
    {
      "cell_type": "code",
      "execution_count": null,
      "metadata": {
        "colab": {
          "base_uri": "https://localhost:8080/"
        },
        "id": "pWGDWgyMOrYt",
        "outputId": "902640b8-1839-42e3-d108-f19dc2c373ea"
      },
      "outputs": [
        {
          "data": {
            "text/plain": [
              "0    41399\n",
              "1     4553\n",
              "Name: labels, dtype: int64"
            ]
          },
          "execution_count": 10,
          "metadata": {},
          "output_type": "execute_result"
        }
      ],
      "source": [
        "eval[\"labels\"].value_counts()"
      ]
    },
    {
      "cell_type": "markdown",
      "metadata": {
        "id": "XAjG8XG65kSs"
      },
      "source": [
        "# **MQCC**"
      ]
    },
    {
      "cell_type": "code",
      "execution_count": null,
      "metadata": {
        "id": "EajLWrtkkrKi"
      },
      "outputs": [],
      "source": [
        "import numpy as np\n",
        "from scipy.io import wavfile\n",
        "import librosa\n",
        "import soundfile as sf\n",
        "\n",
        "count = 0\n",
        "\n",
        "def extract_mfcc_features(file_path, sr_limit=80000, n_mfcc=13, max_length=157):\n",
        "    global count\n",
        "    try:\n",
        "        data, sr = sf.read(file_path)\n",
        "\n",
        "        if sr > sr_limit:\n",
        "            # Resample the audio if the sampling rate is higher than the limit\n",
        "            data = librosa.resample(data, sr, sr_limit)\n",
        "            sr = sr_limit\n",
        "\n",
        "        mfccs = librosa.feature.mfcc(y=data, sr=sr, n_mfcc=n_mfcc)\n",
        "\n",
        "        # Pad or truncate the features to the fixed length\n",
        "        if mfccs.shape[1] < max_length:\n",
        "            # Pad if the features are shorter than the desired length\n",
        "            mfccs = np.pad(mfccs, ((0, 0), (0, max_length - mfccs.shape[1])), mode='constant', constant_values=0)\n",
        "        elif mfccs.shape[1] > max_length:\n",
        "            # Truncate if the features are longer than the desired length\n",
        "            mfccs = mfccs[:, :max_length]\n",
        "\n",
        "        count += 1\n",
        "        print(count)\n",
        "        return mfccs\n",
        "    except Exception as e:\n",
        "        print(f\"Error processing file {file_path}: {e}\")\n",
        "        return None\n",
        "\n",
        "import concurrent.futures\n",
        "from sklearn.model_selection import train_test_split\n",
        "\n",
        "# Your existing functions\n",
        "\n",
        "def process_file(path, max_length=157):\n",
        "    return extract_mfcc_features(path, max_length=max_length)\n",
        "\n",
        "def create_mfcc_features_parallel(data_paths, max_length=157):\n",
        "    mfcc_features = []\n",
        "\n",
        "    with concurrent.futures.ProcessPoolExecutor() as executor:\n",
        "        results = list(executor.map(process_file, data_paths, [max_length]*len(data_paths)))\n",
        "\n",
        "    for result in results:\n",
        "        if result is not None:\n",
        "            mfcc_features.append(result)\n",
        "\n",
        "    return np.array(mfcc_features)\n",
        "\n"
      ]
    },
    {
      "cell_type": "code",
      "execution_count": null,
      "metadata": {
        "id": "hccuP7MJrnut"
      },
      "outputs": [],
      "source": [
        "# Assuming 'x_train' and 'x_test' are lists of audio file paths for training and testing data respectively\n",
        "# X_train = create_mfcc_features_parallel(progress[\"file_path\"])\n",
        "# X_test = create_mfcc_features_parallel(eval[\"file_path\"])\n",
        "# X_val = create_mfcc_features_parallel(hidden[\"file_path\"])"
      ]
    },
    {
      "cell_type": "code",
      "execution_count": null,
      "metadata": {
        "id": "5Rw7gC-SLixT"
      },
      "outputs": [],
      "source": [
        "# np.save(\"/content/drive/MyDrive/Voice Spoof/mqcc_features_progress.npy\", X_train)\n",
        "# np.save(\"/content/drive/MyDrive/Voice Spoof/mqcc_features_eval.npy\", X_test)\n",
        "# np.save(\"/content/drive/MyDrive/Voice Spoof/mqcc_features_hidden.npy\", X_val)"
      ]
    },
    {
      "cell_type": "code",
      "execution_count": null,
      "metadata": {
        "id": "pWNZ95YNMfpC"
      },
      "outputs": [],
      "source": [
        "X_train = np.load(\"/content/drive/MyDrive/Voice Spoof/mqcc_features_progress.npy\")\n",
        "X_test = np.load(\"/content/drive/MyDrive/Voice Spoof/mqcc_features_eval.npy\")\n",
        "X_val = np.load(\"/content/drive/MyDrive/Voice Spoof/mqcc_features_hidden.npy\")"
      ]
    },
    {
      "cell_type": "code",
      "execution_count": null,
      "metadata": {
        "id": "_y8tBlNo0Z07"
      },
      "outputs": [],
      "source": [
        "X_train"
      ]
    },
    {
      "cell_type": "code",
      "execution_count": null,
      "metadata": {
        "id": "W4pLHht7y1dd"
      },
      "outputs": [],
      "source": [
        "X_train_reshaped = X_train.reshape((X_train.shape[0], X_train.shape[1] * X_train.shape[2]))\n",
        "X_test_reshaped = X_test.reshape((X_test.shape[0], X_test.shape[1] * X_test.shape[2]))\n",
        "X_val_reshaped = X_val.reshape((X_val.shape[0], X_val.shape[1] * X_val.shape[2]))\n",
        "\n",
        "y_train = progress[\"labels\"]\n",
        "y_test = eval[\"labels\"]\n",
        "y_val = hidden[\"labels\"]"
      ]
    },
    {
      "cell_type": "code",
      "execution_count": null,
      "metadata": {
        "id": "EnYE3SXmQuJC"
      },
      "outputs": [],
      "source": [
        "from imblearn.over_sampling import RandomOverSampler\n",
        "\n",
        "oversampler = RandomOverSampler(sampling_strategy='auto', random_state=42)\n",
        "X_train_resampled, y_train_resampled = oversampler.fit_resample(X_train_reshaped, y_train)\n"
      ]
    },
    {
      "cell_type": "code",
      "execution_count": null,
      "metadata": {
        "colab": {
          "base_uri": "https://localhost:8080/"
        },
        "id": "aowI5wu3Q6ab",
        "outputId": "3b2b6ea3-4d93-4146-983c-8f0bfc1bc4b1"
      },
      "outputs": [
        {
          "data": {
            "text/plain": [
              "(9078, 2041)"
            ]
          },
          "execution_count": 61,
          "metadata": {},
          "output_type": "execute_result"
        }
      ],
      "source": [
        "X_train_resampled.shape"
      ]
    },
    {
      "cell_type": "code",
      "execution_count": null,
      "metadata": {
        "colab": {
          "base_uri": "https://localhost:8080/"
        },
        "id": "CmjVsVfBzQfI",
        "outputId": "9523125e-bc21-456c-d847-ff7485763309"
      },
      "outputs": [
        {
          "name": "stdout",
          "output_type": "stream",
          "text": [
            "Accuracy: 92.71%\n",
            "Classification Report:\n",
            "              precision    recall  f1-score   support\n",
            "\n",
            "           0       0.94      0.98      0.96     41399\n",
            "           1       0.69      0.48      0.57      4553\n",
            "\n",
            "    accuracy                           0.93     45952\n",
            "   macro avg       0.82      0.73      0.76     45952\n",
            "weighted avg       0.92      0.93      0.92     45952\n",
            "\n"
          ]
        }
      ],
      "source": [
        "# from sklearn.linear_model import LogisticRegression\n",
        "# from sklearn.metrics import accuracy_score, classification_report, roc_curve, auc, confusion_matrix\n",
        "# from sklearn.ensemble import RandomForestClassifier\n",
        "# import matplotlib.pyplot as plt\n",
        "# from sklearn.svm import SVC\n",
        "\n",
        "# # Create and train a Logistic Regression model\n",
        "# class_weight = {1: 4.898255813953488, 0: 0.5568407138136153}\n",
        "\n",
        "# logistic_model = LogisticRegression(random_state=42, class_weight= class_weight)\n",
        "# svc_model = SVC(class_weight='balanced', probability=True)\n",
        "# random_forest_model = RandomForestClassifier(random_state=42)\n",
        "# # logistic_model.fit(X_train, y_train)\n",
        "# random_forest_model.fit(X_train_resampled, y_train_resampled)\n",
        "\n",
        "# # Predict on the test set\n",
        "# y_pred = random_forest_model.predict(X_test_reshaped)\n",
        "\n",
        "# # Calculate accuracy\n",
        "# accuracy = accuracy_score(y_test, y_pred)\n",
        "# print(f\"Accuracy: {accuracy * 100:.2f}%\")\n",
        "\n",
        "# # Print classification report\n",
        "# print(\"Classification Report:\")\n",
        "# print(classification_report(y_test, y_pred))\n"
      ]
    },
    {
      "cell_type": "code",
      "execution_count": null,
      "metadata": {
        "colab": {
          "base_uri": "https://localhost:8080/"
        },
        "id": "kjmAUutMNzuK",
        "outputId": "fb5e76bf-bfcf-41bb-f5e3-1b5545a6ce15"
      },
      "outputs": [
        {
          "name": "stdout",
          "output_type": "stream",
          "text": [
            "AUC: 95.47%\n",
            "EER: 40.65%\n"
          ]
        }
      ],
      "source": [
        "# from sklearn.metrics import accuracy_score, classification_report, roc_curve, auc, confusion_matrix\n",
        "# fpr, tpr, thresholds = roc_curve(y_test, random_forest_model.predict_proba(X_test_reshaped)[:, 1])\n",
        "\n",
        "# # Calculate AUC (Area Under the Curve)\n",
        "# roc_auc = auc(fpr, tpr)\n",
        "# print(f\"AUC: {roc_auc * 100:.2f}%\")\n",
        "# # Calculate EER\n",
        "# cm = confusion_matrix(y_test, y_pred)\n",
        "# eer = (cm[0, 1] / (cm[0, 1] + cm[1, 0] + 1e-10) + cm[1, 0] / (cm[1, 0] + cm[1, 1] + 1e-10)) / 2\n",
        "# print(f\"EER: {eer * 100:.2f}%\")"
      ]
    },
    {
      "cell_type": "code",
      "execution_count": null,
      "metadata": {
        "colab": {
          "base_uri": "https://localhost:8080/"
        },
        "id": "lyHXIconR0WQ",
        "outputId": "fce4dc49-eb42-46f0-9033-62ade38abbba"
      },
      "outputs": [
        {
          "data": {
            "text/plain": [
              "45952"
            ]
          },
          "execution_count": 66,
          "metadata": {},
          "output_type": "execute_result"
        }
      ],
      "source": [
        "len(y_pred)"
      ]
    },
    {
      "cell_type": "code",
      "execution_count": null,
      "metadata": {
        "colab": {
          "base_uri": "https://localhost:8080/"
        },
        "id": "c299qjNvSag2",
        "outputId": "8558cb47-9d42-4982-8e4f-e1975841cad4"
      },
      "outputs": [
        {
          "name": "stdout",
          "output_type": "stream",
          "text": [
            "Model: \"sequential_5\"\n",
            "_________________________________________________________________\n",
            " Layer (type)                Output Shape              Param #   \n",
            "=================================================================\n",
            " conv2d_8 (Conv2D)           (None, 13, 157, 64)       640       \n",
            "                                                                 \n",
            " max_pooling2d_7 (MaxPoolin  (None, 6, 78, 64)         0         \n",
            " g2D)                                                            \n",
            "                                                                 \n",
            " conv2d_9 (Conv2D)           (None, 6, 78, 128)        73856     \n",
            "                                                                 \n",
            " max_pooling2d_8 (MaxPoolin  (None, 3, 39, 128)        0         \n",
            " g2D)                                                            \n",
            "                                                                 \n",
            " conv2d_10 (Conv2D)          (None, 3, 39, 256)        295168    \n",
            "                                                                 \n",
            " max_pooling2d_9 (MaxPoolin  (None, 1, 19, 256)        0         \n",
            " g2D)                                                            \n",
            "                                                                 \n",
            " flatten_2 (Flatten)         (None, 4864)              0         \n",
            "                                                                 \n",
            " dense_4 (Dense)             (None, 256)               1245440   \n",
            "                                                                 \n",
            " dense_5 (Dense)             (None, 1)                 257       \n",
            "                                                                 \n",
            "=================================================================\n",
            "Total params: 1615361 (6.16 MB)\n",
            "Trainable params: 1615361 (6.16 MB)\n",
            "Non-trainable params: 0 (0.00 Byte)\n",
            "_________________________________________________________________\n"
          ]
        }
      ],
      "source": [
        "from tensorflow.keras import layers, models, callbacks\n",
        "\n",
        "# Assuming your input shape is (13, 157, 1)\n",
        "input_shape = (X_train.shape[1], X_train.shape[2], 1)\n",
        "\n",
        "model = models.Sequential()\n",
        "\n",
        "# Block 1\n",
        "model.add(layers.Conv2D(64, (3, 3), padding='same', activation='relu', input_shape=input_shape))\n",
        "model.add(layers.MaxPooling2D((2, 2)))\n",
        "\n",
        "# Block 2\n",
        "model.add(layers.Conv2D(128, (3, 3), padding='same', activation='relu'))\n",
        "model.add(layers.MaxPooling2D((2, 2)))\n",
        "\n",
        "# Block 3\n",
        "model.add(layers.Conv2D(256, (3, 3), padding='same', activation='relu'))\n",
        "model.add(layers.MaxPooling2D((2, 2)))\n",
        "\n",
        "# Flatten and Dense layers\n",
        "model.add(layers.Flatten())\n",
        "model.add(layers.Dense(256, activation='relu'))\n",
        "model.add(layers.Dense(1, activation='sigmoid'))\n",
        "\n",
        "# Compile the model\n",
        "model.compile(optimizer='adam', loss='binary_crossentropy', metrics=['accuracy'])\n",
        "\n",
        "# Print the model summary\n",
        "model.summary()\n"
      ]
    },
    {
      "cell_type": "code",
      "execution_count": null,
      "metadata": {
        "id": "hjf5KjP0IUC9"
      },
      "outputs": [],
      "source": [
        "import numpy as np\n",
        "from tensorflow.keras.models import Sequential\n",
        "from tensorflow.keras.layers import Dense, Dropout, Flatten\n",
        "from tensorflow.keras.applications import VGGish\n",
        "from tensorflow.keras.optimizers import Adam\n",
        "\n",
        "# Assuming your input shape is (num_samples, num_frames, num_mfcc_features)\n",
        "input_shape = (X_train.shape[1], X_train.shape[2])\n",
        "\n",
        "# Load pre-trained VGGish model\n",
        "vggish_model = VGGish(include_top=False, input_shape=input_shape)\n",
        "\n",
        "# Freeze the layers in the VGGish model\n",
        "for layer in vggish_model.layers:\n",
        "    layer.trainable = False\n",
        "\n",
        "# Create a new model on top of the pre-trained VGGish model\n",
        "model = Sequential([\n",
        "    vggish_model,\n",
        "    Flatten(),\n",
        "    Dense(256, activation='relu'),\n",
        "    Dropout(0.5),\n",
        "    Dense(1, activation='sigmoid')\n",
        "])\n",
        "\n",
        "# Compile the model\n",
        "model.compile(optimizer=Adam(lr=0.001), loss='binary_crossentropy', metrics=['accuracy'])\n",
        "\n",
        "# Print the model summary\n",
        "model.summary()\n"
      ]
    },
    {
      "cell_type": "code",
      "execution_count": null,
      "metadata": {
        "colab": {
          "background_save": true,
          "base_uri": "https://localhost:8080/"
        },
        "id": "yUjkoXKpU1jR",
        "outputId": "cf1d9157-51cf-47e0-8f36-af4785e18543"
      },
      "outputs": [
        {
          "name": "stdout",
          "output_type": "stream",
          "text": [
            "Epoch 1/20\n",
            "158/158 [==============================] - 52s 289ms/step - loss: 0.2083 - accuracy: 0.9132 - val_loss: 2.1901 - val_accuracy: 0.8862\n",
            "Epoch 2/20\n",
            "158/158 [==============================] - 43s 272ms/step - loss: 0.1818 - accuracy: 0.9100 - val_loss: 0.9725 - val_accuracy: 0.8848\n",
            "Epoch 3/20\n",
            "158/158 [==============================] - 44s 280ms/step - loss: 0.1158 - accuracy: 0.9517 - val_loss: 0.9465 - val_accuracy: 0.8862\n",
            "Epoch 4/20\n",
            "158/158 [==============================] - 43s 270ms/step - loss: 0.1071 - accuracy: 0.9517 - val_loss: 0.8608 - val_accuracy: 0.8860\n",
            "Epoch 5/20\n",
            "158/158 [==============================] - 42s 268ms/step - loss: 0.0952 - accuracy: 0.9575 - val_loss: 1.0061 - val_accuracy: 0.8850\n",
            "Epoch 6/20\n",
            "158/158 [==============================] - 42s 264ms/step - loss: 0.0930 - accuracy: 0.9557 - val_loss: 0.7716 - val_accuracy: 0.8862\n",
            "Epoch 7/20\n",
            "158/158 [==============================] - 41s 260ms/step - loss: 0.0923 - accuracy: 0.9573 - val_loss: 0.8353 - val_accuracy: 0.8860\n",
            "Epoch 8/20\n",
            "158/158 [==============================] - 43s 275ms/step - loss: 0.0858 - accuracy: 0.9592 - val_loss: 0.9138 - val_accuracy: 0.8862\n",
            "Epoch 9/20\n",
            "158/158 [==============================] - 45s 283ms/step - loss: 0.1231 - accuracy: 0.9535 - val_loss: 0.8594 - val_accuracy: 0.8429\n",
            "Epoch 10/20\n",
            "158/158 [==============================] - 41s 258ms/step - loss: 0.0880 - accuracy: 0.9594 - val_loss: 1.7465 - val_accuracy: 0.8852\n",
            "Epoch 11/20\n",
            "158/158 [==============================] - 41s 263ms/step - loss: 0.0534 - accuracy: 0.9751 - val_loss: 1.2610 - val_accuracy: 0.8862\n",
            "Epoch 12/20\n",
            "158/158 [==============================] - 42s 265ms/step - loss: 0.0896 - accuracy: 0.9616 - val_loss: 1.0629 - val_accuracy: 0.8862\n",
            "Epoch 13/20\n",
            "158/158 [==============================] - 40s 253ms/step - loss: 0.0592 - accuracy: 0.9733 - val_loss: 0.9648 - val_accuracy: 0.8862\n",
            "Epoch 14/20\n",
            "158/158 [==============================] - 45s 285ms/step - loss: 0.0553 - accuracy: 0.9798 - val_loss: 1.0430 - val_accuracy: 0.8860\n",
            "Epoch 15/20\n",
            "158/158 [==============================] - 40s 252ms/step - loss: 0.0696 - accuracy: 0.9713 - val_loss: 1.9110 - val_accuracy: 0.8862\n",
            "Epoch 16/20\n",
            "158/158 [==============================] - 41s 259ms/step - loss: 0.1069 - accuracy: 0.9549 - val_loss: 2.2958 - val_accuracy: 0.8860\n",
            "Epoch 17/20\n",
            "158/158 [==============================] - 42s 269ms/step - loss: 0.0630 - accuracy: 0.9711 - val_loss: 1.4296 - val_accuracy: 0.8862\n",
            "Epoch 18/20\n",
            "158/158 [==============================] - 40s 252ms/step - loss: 0.0328 - accuracy: 0.9854 - val_loss: 1.2880 - val_accuracy: 0.8862\n",
            "Epoch 19/20\n",
            "158/158 [==============================] - 43s 275ms/step - loss: 0.0330 - accuracy: 0.9856 - val_loss: 1.2477 - val_accuracy: 0.8862\n",
            "Epoch 20/20\n",
            "158/158 [==============================] - 40s 252ms/step - loss: 0.0687 - accuracy: 0.9678 - val_loss: 1.2696 - val_accuracy: 0.8860\n"
          ]
        }
      ],
      "source": [
        "# Callbacks\n",
        "early_stopping = callbacks.EarlyStopping(monitor='val_loss', patience=3, restore_best_weights=True)\n",
        "tensorboard = callbacks.TensorBoard(log_dir='./logs', write_graph=True, write_images=True)\n",
        "\n",
        "history = model.fit(X_train, y_train, epochs=20, callbacks=[early_stopping, tensorboard], validation_data=(X_val, y_val))"
      ]
    },
    {
      "cell_type": "code",
      "execution_count": null,
      "metadata": {
        "colab": {
          "base_uri": "https://localhost:8080/"
        },
        "id": "4a30v1-qVHSN",
        "outputId": "5964cc7d-e009-43a3-8548-35198ba93f9c"
      },
      "outputs": [
        {
          "name": "stdout",
          "output_type": "stream",
          "text": [
            "1436/1436 [==============================] - 165s 115ms/step - loss: 0.2338 - accuracy: 0.9462\n",
            "Test Accuracy: 0.9462047219276428\n"
          ]
        }
      ],
      "source": [
        "# Evaluate the model on the test set\n",
        "test_loss, test_accuracy = model.evaluate(X_test, y_test)\n",
        "print(f'Test Accuracy: {test_accuracy}')\n"
      ]
    },
    {
      "cell_type": "code",
      "execution_count": null,
      "metadata": {
        "colab": {
          "base_uri": "https://localhost:8080/",
          "height": 640
        },
        "id": "BaU7E95-Vug6",
        "outputId": "541f88ad-acf2-4e31-e219-9ffcbc1d0386"
      },
      "outputs": [
        {
          "data": {
            "image/png": "[encoded data removed]",
            "text/plain": [
              "<Figure size 640x480 with 1 Axes>"
            ]
          },
          "metadata": {},
          "output_type": "display_data"
        },
        {
          "name": "stdout",
          "output_type": "stream",
          "text": [
            "1436/1436 [==============================] - 162s 113ms/step\n",
            "Classification Report:\n",
            "               precision    recall  f1-score   support\n",
            "\n",
            "           0       0.97      0.97      0.97     41399\n",
            "           1       0.74      0.69      0.72      4553\n",
            "\n",
            "    accuracy                           0.95     45952\n",
            "   macro avg       0.86      0.83      0.84     45952\n",
            "weighted avg       0.94      0.95      0.95     45952\n",
            "\n"
          ]
        }
      ],
      "source": [
        "# Plot training history\n",
        "plt.plot(history.history['accuracy'], label='Training Accuracy')\n",
        "# plt.plot(history.history['val_accuracy'], label='Validation Accuracy')\n",
        "plt.xlabel('Epoch')\n",
        "plt.ylabel('Accuracy')\n",
        "plt.legend()\n",
        "plt.show()\n",
        "\n",
        "# Generate predictions on the test set\n",
        "y_pred = model.predict(X_test)\n",
        "# Assuming y_pred is your array of predicted probabilities\n",
        "threshold = 0.5\n",
        "y_pred = (y_pred >= threshold).astype(int)\n",
        "\n",
        "# Print classification report\n",
        "print(\"Classification Report:\\n\", classification_report(y_test, y_pred))"
      ]
    },
    {
      "cell_type": "code",
      "execution_count": null,
      "metadata": {
        "colab": {
          "base_uri": "https://localhost:8080/"
        },
        "id": "8GOAV5qtWRG5",
        "outputId": "cc2bc6df-84d9-40da-f3f1-a1dcbda05ba7"
      },
      "outputs": [
        {
          "data": {
            "text/plain": [
              "array([[0],\n",
              "       [0],\n",
              "       [0],\n",
              "       [0],\n",
              "       [0]])"
            ]
          },
          "execution_count": 88,
          "metadata": {},
          "output_type": "execute_result"
        }
      ],
      "source": [
        "y_pred[:5]"
      ]
    },
    {
      "cell_type": "code",
      "execution_count": null,
      "metadata": {
        "colab": {
          "base_uri": "https://localhost:8080/"
        },
        "id": "DyqS977-WFMf",
        "outputId": "9d89cb6e-51db-445a-8784-0e9022cfdf1d"
      },
      "outputs": [
        {
          "name": "stdout",
          "output_type": "stream",
          "text": [
            "Equal Error Rate (EER): 0.2792\n"
          ]
        }
      ],
      "source": [
        "from sklearn.metrics import roc_curve, auc\n",
        "from scipy.optimize import brentq\n",
        "from scipy.interpolate import interp1d\n",
        "\n",
        "# Compute ROC curve and AUC\n",
        "fpr, tpr, thresholds = roc_curve(y_test, y_pred)\n",
        "roc_auc = auc(fpr, tpr)\n",
        "\n",
        "# Calculate Equal Error Rate (EER)\n",
        "eer_threshold = brentq(lambda x : 1. - x - interp1d(fpr, tpr)(x), 0., 1.)\n",
        "eer = 1. - interp1d(fpr, tpr)(eer_threshold)\n",
        "print(f'Equal Error Rate (EER): {eer:.4f} ')"
      ]
    },
    {
      "cell_type": "code",
      "execution_count": null,
      "metadata": {
        "colab": {
          "base_uri": "https://localhost:8080/"
        },
        "id": "KWTo65c1fKBB",
        "outputId": "849ed7fa-a116-411f-d7e1-e3116295c314"
      },
      "outputs": [
        {
          "name": "stdout",
          "output_type": "stream",
          "text": [
            "Equal Error Rate (EER): 0.2385 \n"
          ]
        }
      ],
      "source": [
        "from sklearn.metrics import roc_curve, auc\n",
        "from scipy.optimize import brentq\n",
        "from scipy.interpolate import interp1d\n",
        "\n",
        "# Compute ROC curve and AUC\n",
        "fpr, tpr, thresholds = roc_curve(y_test, y_pred)\n",
        "roc_auc = auc(fpr, tpr)\n",
        "\n",
        "# Calculate Equal Error Rate (EER)\n",
        "eer_threshold = brentq(lambda x : 1. - x - interp1d(fpr, tpr)(x), 0., 1.)\n",
        "eer = 1. - interp1d(fpr, tpr)(eer_threshold)\n",
        "print(f'Equal Error Rate (EER): {eer:.4f} ')"
      ]
    },
    {
      "cell_type": "markdown",
      "metadata": {
        "id": "zsM6OZGodgTS"
      },
      "source": [
        "# **Spec**"
      ]
    },
    {
      "cell_type": "code",
      "execution_count": null,
      "metadata": {
        "id": "46NC8lsue9bk"
      },
      "outputs": [],
      "source": [
        "import pandas as pd\n",
        "import librosa\n",
        "import numpy as np\n",
        "from concurrent.futures import ThreadPoolExecutor\n",
        "\n",
        "count = 0  # Initialize count variable\n",
        "\n",
        "def extract_spectrogram(audio_path, target_length=5.0):\n",
        "    global count\n",
        "    try:\n",
        "        # Load audio file\n",
        "        y, sr = librosa.load(audio_path)\n",
        "\n",
        "        # Ensure the audio has the target duration\n",
        "        target_samples = int(target_length * sr)\n",
        "        if len(y) < target_samples:\n",
        "            y = np.pad(y, (0, target_samples - len(y)), 'constant')\n",
        "        elif len(y) > target_samples:\n",
        "            y = y[:target_samples]\n",
        "\n",
        "        # Compute the spectrogram\n",
        "        spectrogram = librosa.feature.melspectrogram(y=y, sr=sr, n_mels=128, fmax=8000)\n",
        "\n",
        "        count += 1\n",
        "        print(count)\n",
        "\n",
        "        # Convert to decibels (log scale)\n",
        "        spectrogram_db = librosa.power_to_db(spectrogram, ref=np.max)\n",
        "\n",
        "        return spectrogram_db\n",
        "    except Exception as e:\n",
        "        print(f\"Error processing file {audio_path}: {e}\")\n",
        "        return None\n",
        "\n",
        "def extract_spectrogram_parallel(row):\n",
        "    return extract_spectrogram(row.file_path)"
      ]
    },
    {
      "cell_type": "code",
      "execution_count": null,
      "metadata": {
        "id": "Q7-8sY7jji2A"
      },
      "outputs": [],
      "source": [
        "with ThreadPoolExecutor() as executor:\n",
        "    # Apply extract_spectrogram_parallel to each row in the DataFrame\n",
        "    results = list(executor.map(extract_spectrogram_parallel, progress.itertuples(index=False)))\n",
        "\n",
        "# Filter out any None results (error cases)\n",
        "spectrograms = [result for result in results if result is not None]\n",
        "\n",
        "X_train = np.array(spectrograms)"
      ]
    },
    {
      "cell_type": "code",
      "execution_count": null,
      "metadata": {
        "colab": {
          "base_uri": "https://localhost:8080/"
        },
        "id": "9Oey6UyWmmhH",
        "outputId": "3c04dc1b-7042-416c-ddf8-309e4be2c25b"
      },
      "outputs": [
        {
          "data": {
            "text/plain": [
              "(5055, 128, 216)"
            ]
          },
          "execution_count": 43,
          "metadata": {},
          "output_type": "execute_result"
        }
      ],
      "source": [
        "X_train.shape"
      ]
    },
    {
      "cell_type": "code",
      "execution_count": null,
      "metadata": {
        "id": "BVeEHnzmkl2h"
      },
      "outputs": [],
      "source": [
        "with ThreadPoolExecutor() as executor:\n",
        "    # Apply extract_spectrogram_parallel to each row in the DataFrame\n",
        "    results = list(executor.map(extract_spectrogram_parallel, hidden.itertuples(index=False)))\n",
        "\n",
        "# Filter out any None results (error cases)\n",
        "spectrograms = [result for result in results if result is not None]\n",
        "\n",
        "X_val = np.array(spectrograms)"
      ]
    },
    {
      "cell_type": "code",
      "execution_count": null,
      "metadata": {
        "id": "usS0SoBjpe6b"
      },
      "outputs": [],
      "source": [
        "del results"
      ]
    },
    {
      "cell_type": "code",
      "execution_count": null,
      "metadata": {
        "id": "2c_JVf9DkoNP"
      },
      "outputs": [],
      "source": [
        "with ThreadPoolExecutor() as executor:\n",
        "    # Apply extract_spectrogram_parallel to each row in the DataFrame\n",
        "    results = list(executor.map(extract_spectrogram_parallel, eval.itertuples(index=False)))\n",
        "\n",
        "# Filter out any None results (error cases)\n",
        "spectrograms = [result for result in results if result is not None]\n",
        "\n",
        "X_test = np.array(spectrograms)"
      ]
    },
    {
      "cell_type": "code",
      "execution_count": null,
      "metadata": {
        "id": "nKh1p440jm4y"
      },
      "outputs": [],
      "source": [
        "# np.save(\"/content/drive/MyDrive/Voice Spoof/Spec/spectrogram_features_progressl.npy\", X_train)\n",
        "# np.save(\"/content/drive/MyDrive/Voice Spoof/Spec/spectrogram_features_eval.npy\", X_test)\n",
        "# np.save(\"/content/drive/MyDrive/Voice Spoof/Spec/spectrogram_features_hidden.npy\", X_val)"
      ]
    },
    {
      "cell_type": "code",
      "execution_count": null,
      "metadata": {
        "id": "_74dQjTkgRha"
      },
      "outputs": [],
      "source": [
        "X_train = np.load(\"/content/drive/MyDrive/Voice Spoof/Spec/spectrogram_features_progressl.npy\")\n",
        "X_test = np.load(\"/content/drive/MyDrive/Voice Spoof/Spec/spectrogram_features_eval.npy\")\n",
        "X_val = np.load(\"/content/drive/MyDrive/Voice Spoof/Spec/spectrogram_features_hidden.npy\")"
      ]
    },
    {
      "cell_type": "code",
      "execution_count": null,
      "metadata": {
        "colab": {
          "background_save": true
        },
        "id": "yKpXQgVj1dnX"
      },
      "outputs": [],
      "source": [
        "y_train = progress[\"labels\"]\n",
        "y_test = eval[\"labels\"]\n",
        "y_val = hidden[\"labels\"]"
      ]
    },
    {
      "cell_type": "code",
      "execution_count": null,
      "metadata": {
        "id": "iJ_SjBcZ1i2C"
      },
      "outputs": [],
      "source": [
        "from tensorflow.keras import layers, models, callbacks\n",
        "\n",
        "# Assuming your input shape is (13, 157, 1)\n",
        "input_shape = (X_train.shape[1], X_train.shape[2], 1)\n",
        "\n",
        "model = models.Sequential()\n",
        "\n",
        "# Block 1\n",
        "model.add(layers.Conv2D(64, (3, 3), padding='same', activation='relu', input_shape=input_shape))\n",
        "model.add(layers.MaxPooling2D((2, 2)))\n",
        "\n",
        "# Block 2\n",
        "model.add(layers.Conv2D(128, (3, 3), padding='same', activation='relu'))\n",
        "model.add(layers.MaxPooling2D((2, 2)))\n",
        "\n",
        "# Block 3\n",
        "model.add(layers.Conv2D(256, (3, 3), padding='same', activation='relu'))\n",
        "model.add(layers.MaxPooling2D((2, 2)))\n",
        "\n",
        "# Flatten and Dense layers\n",
        "model.add(layers.Flatten())\n",
        "model.add(layers.Dense(256, activation='relu'))\n",
        "model.add(layers.Dense(1, activation='sigmoid'))\n",
        "\n",
        "# Compile the model\n",
        "model.compile(optimizer='adam', loss='binary_crossentropy', metrics=['accuracy'])\n",
        "\n",
        "# Print the model summary\n",
        "model.summary()\n"
      ]
    },
    {
      "cell_type": "markdown",
      "metadata": {
        "id": "442bKi0V5o1w"
      },
      "source": [
        "# **Load**"
      ]
    },
    {
      "cell_type": "code",
      "execution_count": null,
      "metadata": {
        "id": "m3K_nOYT5mEO"
      },
      "outputs": [],
      "source": [
        "import numpy as np\n",
        "\n",
        "# Load the NumPy array\n",
        "features_array_progress = np.load('/content/drive/MyDrive/Voice Spoof/lfcc_features_progress.npy', allow_pickle=True)\n",
        "features_array_eval = np.load('/content/drive/MyDrive/Voice Spoof/lfcc_features1_eval.npy', allow_pickle=True)\n",
        "\n",
        "X_train_array = np.array(features_array_progress.tolist())\n",
        "X_test_array = np.array(features_array_eval.tolist())\n",
        "\n",
        "X_train = np.concatenate([arr.flatten().reshape(1, -1) for arr in X_train_array])\n",
        "X_test = np.concatenate([arr.flatten().reshape(1, -1) for arr in X_test_array])\n",
        "\n",
        "y_train = progress.labels\n",
        "y_test = eval['labels'][:6000]\n",
        "\n"
      ]
    },
    {
      "cell_type": "code",
      "execution_count": null,
      "metadata": {
        "colab": {
          "base_uri": "https://localhost:8080/"
        },
        "id": "nNZK2QUsdVAu",
        "outputId": "2d5b32da-0de1-4eb8-b299-3f5d3408aa90"
      },
      "outputs": [
        {
          "data": {
            "text/plain": [
              "(5055, 13, 1249)"
            ]
          },
          "execution_count": 17,
          "metadata": {},
          "output_type": "execute_result"
        }
      ],
      "source": [
        "X_train_array.shape"
      ]
    },
    {
      "cell_type": "code",
      "execution_count": null,
      "metadata": {
        "colab": {
          "base_uri": "https://localhost:8080/"
        },
        "id": "wHQ7-fzgdYaf",
        "outputId": "d1c454a7-6ce1-4391-94b4-7c23290b65aa"
      },
      "outputs": [
        {
          "data": {
            "text/plain": [
              "(5055, 16237)"
            ]
          },
          "execution_count": 18,
          "metadata": {},
          "output_type": "execute_result"
        }
      ],
      "source": [
        "X_train.shape"
      ]
    },
    {
      "cell_type": "code",
      "execution_count": null,
      "metadata": {
        "id": "tTAX0jH0M3TQ"
      },
      "outputs": [],
      "source": [
        "# from imblearn.over_sampling import RandomOverSampler\n",
        "# from sklearn.model_selection import train_test_split\n",
        "\n",
        "# # Apply RandomOverSampler to balance the training set\n",
        "# oversampler = RandomOverSampler(random_state=42)\n",
        "# X_train_resample, y_train_resample = oversampler.fit_resample(X_train, y_train)"
      ]
    },
    {
      "cell_type": "code",
      "execution_count": null,
      "metadata": {
        "id": "6itnQG5FM9uG"
      },
      "outputs": [],
      "source": [
        "# X_train_resample"
      ]
    },
    {
      "cell_type": "code",
      "execution_count": null,
      "metadata": {
        "colab": {
          "base_uri": "https://localhost:8080/"
        },
        "id": "4Nsw-Cn76haI",
        "outputId": "024e5ee3-5137-461b-99d7-bdecca049e88"
      },
      "outputs": [
        {
          "name": "stdout",
          "output_type": "stream",
          "text": [
            "Accuracy: 91.60%\n",
            "Classification Report:\n",
            "              precision    recall  f1-score   support\n",
            "\n",
            "           0       0.93      0.98      0.95      5417\n",
            "           1       0.64      0.30      0.41       583\n",
            "\n",
            "    accuracy                           0.92      6000\n",
            "   macro avg       0.79      0.64      0.68      6000\n",
            "weighted avg       0.90      0.92      0.90      6000\n",
            "\n"
          ]
        }
      ],
      "source": [
        "from sklearn.linear_model import LogisticRegression\n",
        "from sklearn.metrics import accuracy_score, classification_report, roc_curve, auc, confusion_matrix\n",
        "from sklearn.ensemble import RandomForestClassifier\n",
        "import matplotlib.pyplot as plt\n",
        "from sklearn.svm import SVC\n",
        "\n",
        "# Create and train a Logistic Regression model\n",
        "class_weight = {1: 4.898255813953488, 0: 0.5568407138136153}\n",
        "\n",
        "logistic_model = LogisticRegression(random_state=42, class_weight= class_weight)\n",
        "svc_model = SVC(class_weight='balanced', probability=True)\n",
        "random_forest_model = RandomForestClassifier(random_state=42, class_weight=class_weight)\n",
        "# logistic_model.fit(X_train, y_train)\n",
        "random_forest_model.fit(X_train, y_train)\n",
        "\n",
        "# Predict on the test set\n",
        "y_pred = random_forest_model.predict(X_test)\n",
        "\n",
        "# Calculate accuracy\n",
        "accuracy = accuracy_score(y_test, y_pred)\n",
        "print(f\"Accuracy: {accuracy * 100:.2f}%\")\n",
        "\n",
        "# Print classification report\n",
        "print(\"Classification Report:\")\n",
        "print(classification_report(y_test, y_pred))\n"
      ]
    },
    {
      "cell_type": "code",
      "execution_count": null,
      "metadata": {
        "id": "Bj7-slvLT75D"
      },
      "outputs": [],
      "source": [
        "from sklearn.metrics import accuracy_score, classification_report, roc_curve, auc, confusion_matrix\n",
        "fpr, tpr, thresholds = roc_curve(y_test, random_forest_model.predict_proba(X_test)[:, 1])\n",
        "\n",
        "# Calculate AUC (Area Under the Curve)\n",
        "roc_auc = auc(fpr, tpr)\n",
        "print(f\"AUC: {roc_auc * 100:.2f}%\")\n",
        "# Calculate EER\n",
        "cm = confusion_matrix(y_test, y_pred)\n",
        "eer = (cm[0, 1] / (cm[0, 1] + cm[1, 0] + 1e-10) + cm[1, 0] / (cm[1, 0] + cm[1, 1] + 1e-10)) / 2\n",
        "print(f\"EER: {eer * 100:.2f}%\")"
      ]
    },
    {
      "cell_type": "code",
      "execution_count": null,
      "metadata": {
        "id": "6yVg7DSKXHva"
      },
      "outputs": [],
      "source": [
        "from xgboost import XGBClassifier\n",
        "from sklearn.metrics import accuracy_score, classification_report, roc_curve, auc, confusion_matrix\n",
        "import matplotlib.pyplot as plt\n",
        "\n",
        "# Define the imbalance ratio (number of negative samples / number of positive samples)\n",
        "imbalance_ratio = np.sum(y_train == 0) / np.sum(y_train == 1)\n",
        "\n",
        "# Create and train an XGBoost model\n",
        "xgb_model = XGBClassifier(scale_pos_weight=imbalance_ratio, random_state=42)\n",
        "xgb_model.fit(X_train, y_train)\n",
        "\n",
        "# Predict on the test set\n",
        "y_pred = xgb_model.predict(X_test)\n",
        "\n",
        "# Calculate accuracy\n",
        "accuracy = accuracy_score(y_test, y_pred)\n",
        "print(f\"Accuracy: {accuracy * 100:.2f}%\")\n",
        "\n",
        "# Print classification report\n",
        "print(\"Classification Report:\")\n",
        "print(classification_report(y_test, y_pred))\n"
      ]
    },
    {
      "cell_type": "code",
      "execution_count": null,
      "metadata": {
        "colab": {
          "base_uri": "https://localhost:8080/",
          "height": 698
        },
        "id": "b6tPU62Ig424",
        "outputId": "c790b2d7-37fb-4d3c-ba3b-1b04a44bdf45"
      },
      "outputs": [
        {
          "name": "stderr",
          "output_type": "stream",
          "text": [
            "/usr/local/lib/python3.10/dist-packages/sklearn/svm/_base.py:1244: ConvergenceWarning: Liblinear failed to converge, increase the number of iterations.\n",
            "  warnings.warn(\n"
          ]
        },
        {
          "name": "stdout",
          "output_type": "stream",
          "text": [
            "Accuracy: 91.12%\n",
            "Classification Report:\n",
            "              precision    recall  f1-score   support\n",
            "\n",
            "           0       0.94      0.96      0.95      5417\n",
            "           1       0.55      0.44      0.49       583\n",
            "\n",
            "    accuracy                           0.91      6000\n",
            "   macro avg       0.75      0.70      0.72      6000\n",
            "weighted avg       0.90      0.91      0.91      6000\n",
            "\n"
          ]
        },
        {
          "data": {
            "image/png": "[encoded data removed]",
            "text/plain": [
              "<Figure size 640x480 with 2 Axes>"
            ]
          },
          "metadata": {},
          "output_type": "display_data"
        }
      ],
      "source": [
        "from sklearn.svm import LinearSVC\n",
        "from sklearn.metrics import accuracy_score, classification_report, confusion_matrix\n",
        "import matplotlib.pyplot as plt\n",
        "\n",
        "# Create and train a Linear SVM model\n",
        "linear_svm = LinearSVC(class_weight='balanced', random_state=42)\n",
        "linear_svm.fit(X_train, y_train)\n",
        "\n",
        "# Predict on the test set\n",
        "y_pred = linear_svm.predict(X_test)\n",
        "\n",
        "# Calculate accuracy\n",
        "accuracy = accuracy_score(y_test, y_pred)\n",
        "print(f\"Accuracy: {accuracy * 100:.2f}%\")\n",
        "\n",
        "# Print classification report\n",
        "print(\"Classification Report:\")\n",
        "print(classification_report(y_test, y_pred))\n",
        "\n",
        "# Plot confusion matrix\n",
        "cm = confusion_matrix(y_test, y_pred)\n",
        "plt.imshow(cm, interpolation=\"nearest\", cmap=plt.cm.Blues)\n",
        "plt.title(\"Confusion Matrix\")\n",
        "plt.colorbar()\n",
        "plt.xlabel(\"Predicted Label\")\n",
        "plt.ylabel(\"True Label\")\n",
        "plt.show()\n"
      ]
    },
    {
      "cell_type": "code",
      "execution_count": null,
      "metadata": {
        "colab": {
          "base_uri": "https://localhost:8080/"
        },
        "id": "urTTGKnXY38j",
        "outputId": "457e6c63-f8ae-4d6b-c466-1ff86edc6c93"
      },
      "outputs": [
        {
          "data": {
            "text/plain": [
              "array([[-506.96725464, -323.92282104, -304.43579102, ...,    0.        ,\n",
              "           0.        ,    0.        ],\n",
              "       [-547.13000488, -544.06365967, -546.26849365, ...,    0.        ,\n",
              "           0.        ,    0.        ],\n",
              "       [-487.18756104, -486.42007446, -485.81799316, ...,    0.        ,\n",
              "           0.        ,    0.        ],\n",
              "       ...,\n",
              "       [-544.1138916 , -537.80664062, -546.23852539, ...,    0.        ,\n",
              "           0.        ,    0.        ],\n",
              "       [-526.33007812, -522.53833008, -475.1708374 , ...,    0.        ,\n",
              "           0.        ,    0.        ],\n",
              "       [-503.01815796, -475.58798218, -461.5864563 , ...,    0.        ,\n",
              "           0.        ,    0.        ]])"
            ]
          },
          "execution_count": 14,
          "metadata": {},
          "output_type": "execute_result"
        }
      ],
      "source": [
        "X_train"
      ]
    },
    {
      "cell_type": "code",
      "execution_count": null,
      "metadata": {
        "colab": {
          "base_uri": "https://localhost:8080/"
        },
        "id": "SZin0cpjY6IP",
        "outputId": "011a72e8-78a8-4a69-c1c3-dd37e210fc47"
      },
      "outputs": [
        {
          "data": {
            "text/plain": [
              "array([[-514.14343262, -515.20629883, -466.6473999 , ...,    0.        ,\n",
              "           0.        ,    0.        ],\n",
              "       [-451.56542969, -505.31506348, -502.76333618, ...,    0.        ,\n",
              "           0.        ,    0.        ],\n",
              "       [-509.18884277, -508.07476807, -497.55334473, ...,    0.        ,\n",
              "           0.        ,    0.        ],\n",
              "       ...,\n",
              "       [-511.65530396, -507.24224854, -463.36804199, ...,    0.        ,\n",
              "           0.        ,    0.        ],\n",
              "       [-430.50921631, -483.89242554, -468.26620483, ...,    0.        ,\n",
              "           0.        ,    0.        ],\n",
              "       [-367.38967896, -360.62094116, -379.18954468, ...,    0.        ,\n",
              "           0.        ,    0.        ]])"
            ]
          },
          "execution_count": 15,
          "metadata": {},
          "output_type": "execute_result"
        }
      ],
      "source": [
        "X_test"
      ]
    },
    {
      "cell_type": "markdown",
      "metadata": {
        "id": "erGPGfJjdcHQ"
      },
      "source": [
        "# **LCNN**"
      ]
    },
    {
      "cell_type": "code",
      "execution_count": null,
      "metadata": {
        "colab": {
          "base_uri": "https://localhost:8080/",
          "height": 391
        },
        "id": "jZHw-XSTde-W",
        "outputId": "a64d689a-1517-47ed-ab1b-cef89c392add"
      },
      "outputs": [
        {
          "ename": "TypeError",
          "evalue": "ignored",
          "output_type": "error",
          "traceback": [
            "\u001b[0;31m---------------------------------------------------------------------------\u001b[0m",
            "\u001b[0;31mTypeError\u001b[0m                                 Traceback (most recent call last)",
            "\u001b[0;32m<ipython-input-22-4158f2fdb334>\u001b[0m in \u001b[0;36m<cell line: 33>\u001b[0;34m()\u001b[0m\n\u001b[1;32m     31\u001b[0m \u001b[0;34m\u001b[0m\u001b[0m\n\u001b[1;32m     32\u001b[0m \u001b[0;31m# Create LCNN model\u001b[0m\u001b[0;34m\u001b[0m\u001b[0;34m\u001b[0m\u001b[0m\n\u001b[0;32m---> 33\u001b[0;31m \u001b[0mmodel\u001b[0m \u001b[0;34m=\u001b[0m \u001b[0mlcnn_model\u001b[0m\u001b[0;34m(\u001b[0m\u001b[0mreshaped_data\u001b[0m\u001b[0;34m)\u001b[0m\u001b[0;34m\u001b[0m\u001b[0;34m\u001b[0m\u001b[0m\n\u001b[0m\u001b[1;32m     34\u001b[0m \u001b[0;34m\u001b[0m\u001b[0m\n\u001b[1;32m     35\u001b[0m \u001b[0;31m# Compile the model\u001b[0m\u001b[0;34m\u001b[0m\u001b[0;34m\u001b[0m\u001b[0m\n",
            "\u001b[0;32m<ipython-input-22-4158f2fdb334>\u001b[0m in \u001b[0;36mlcnn_model\u001b[0;34m(input_shape)\u001b[0m\n\u001b[1;32m      6\u001b[0m \u001b[0;34m\u001b[0m\u001b[0m\n\u001b[1;32m      7\u001b[0m     \u001b[0;31m# Convolutional layers\u001b[0m\u001b[0;34m\u001b[0m\u001b[0;34m\u001b[0m\u001b[0m\n\u001b[0;32m----> 8\u001b[0;31m     \u001b[0mmodel\u001b[0m\u001b[0;34m.\u001b[0m\u001b[0madd\u001b[0m\u001b[0;34m(\u001b[0m\u001b[0mlayers\u001b[0m\u001b[0;34m.\u001b[0m\u001b[0mConv2D\u001b[0m\u001b[0;34m(\u001b[0m\u001b[0;36m64\u001b[0m\u001b[0;34m,\u001b[0m \u001b[0;34m(\u001b[0m\u001b[0;36m3\u001b[0m\u001b[0;34m,\u001b[0m \u001b[0;36m3\u001b[0m\u001b[0;34m)\u001b[0m\u001b[0;34m,\u001b[0m \u001b[0mactivation\u001b[0m\u001b[0;34m=\u001b[0m\u001b[0;34m'relu'\u001b[0m\u001b[0;34m,\u001b[0m \u001b[0minput_shape\u001b[0m\u001b[0;34m=\u001b[0m\u001b[0minput_shape\u001b[0m\u001b[0;34m)\u001b[0m\u001b[0;34m)\u001b[0m\u001b[0;34m\u001b[0m\u001b[0;34m\u001b[0m\u001b[0m\n\u001b[0m\u001b[1;32m      9\u001b[0m     \u001b[0mmodel\u001b[0m\u001b[0;34m.\u001b[0m\u001b[0madd\u001b[0m\u001b[0;34m(\u001b[0m\u001b[0mlayers\u001b[0m\u001b[0;34m.\u001b[0m\u001b[0mMaxPooling2D\u001b[0m\u001b[0;34m(\u001b[0m\u001b[0;34m(\u001b[0m\u001b[0;36m2\u001b[0m\u001b[0;34m,\u001b[0m \u001b[0;36m2\u001b[0m\u001b[0;34m)\u001b[0m\u001b[0;34m)\u001b[0m\u001b[0;34m)\u001b[0m\u001b[0;34m\u001b[0m\u001b[0;34m\u001b[0m\u001b[0m\n\u001b[1;32m     10\u001b[0m \u001b[0;34m\u001b[0m\u001b[0m\n",
            "\u001b[0;32m/usr/local/lib/python3.10/dist-packages/tensorflow/python/trackable/base.py\u001b[0m in \u001b[0;36m_method_wrapper\u001b[0;34m(self, *args, **kwargs)\u001b[0m\n\u001b[1;32m    202\u001b[0m     \u001b[0mself\u001b[0m\u001b[0;34m.\u001b[0m\u001b[0m_self_setattr_tracking\u001b[0m \u001b[0;34m=\u001b[0m \u001b[0;32mFalse\u001b[0m  \u001b[0;31m# pylint: disable=protected-access\u001b[0m\u001b[0;34m\u001b[0m\u001b[0;34m\u001b[0m\u001b[0m\n\u001b[1;32m    203\u001b[0m     \u001b[0;32mtry\u001b[0m\u001b[0;34m:\u001b[0m\u001b[0;34m\u001b[0m\u001b[0;34m\u001b[0m\u001b[0m\n\u001b[0;32m--> 204\u001b[0;31m       \u001b[0mresult\u001b[0m \u001b[0;34m=\u001b[0m \u001b[0mmethod\u001b[0m\u001b[0;34m(\u001b[0m\u001b[0mself\u001b[0m\u001b[0;34m,\u001b[0m \u001b[0;34m*\u001b[0m\u001b[0margs\u001b[0m\u001b[0;34m,\u001b[0m \u001b[0;34m**\u001b[0m\u001b[0mkwargs\u001b[0m\u001b[0;34m)\u001b[0m\u001b[0;34m\u001b[0m\u001b[0;34m\u001b[0m\u001b[0m\n\u001b[0m\u001b[1;32m    205\u001b[0m     \u001b[0;32mfinally\u001b[0m\u001b[0;34m:\u001b[0m\u001b[0;34m\u001b[0m\u001b[0;34m\u001b[0m\u001b[0m\n\u001b[1;32m    206\u001b[0m       \u001b[0mself\u001b[0m\u001b[0;34m.\u001b[0m\u001b[0m_self_setattr_tracking\u001b[0m \u001b[0;34m=\u001b[0m \u001b[0mprevious_value\u001b[0m  \u001b[0;31m# pylint: disable=protected-access\u001b[0m\u001b[0;34m\u001b[0m\u001b[0;34m\u001b[0m\u001b[0m\n",
            "\u001b[0;32m/usr/local/lib/python3.10/dist-packages/keras/src/utils/traceback_utils.py\u001b[0m in \u001b[0;36merror_handler\u001b[0;34m(*args, **kwargs)\u001b[0m\n\u001b[1;32m     68\u001b[0m             \u001b[0;31m# To get the full stack trace, call:\u001b[0m\u001b[0;34m\u001b[0m\u001b[0;34m\u001b[0m\u001b[0m\n\u001b[1;32m     69\u001b[0m             \u001b[0;31m# `tf.debugging.disable_traceback_filtering()`\u001b[0m\u001b[0;34m\u001b[0m\u001b[0;34m\u001b[0m\u001b[0m\n\u001b[0;32m---> 70\u001b[0;31m             \u001b[0;32mraise\u001b[0m \u001b[0me\u001b[0m\u001b[0;34m.\u001b[0m\u001b[0mwith_traceback\u001b[0m\u001b[0;34m(\u001b[0m\u001b[0mfiltered_tb\u001b[0m\u001b[0;34m)\u001b[0m \u001b[0;32mfrom\u001b[0m \u001b[0;32mNone\u001b[0m\u001b[0;34m\u001b[0m\u001b[0;34m\u001b[0m\u001b[0m\n\u001b[0m\u001b[1;32m     71\u001b[0m         \u001b[0;32mfinally\u001b[0m\u001b[0;34m:\u001b[0m\u001b[0;34m\u001b[0m\u001b[0;34m\u001b[0m\u001b[0m\n\u001b[1;32m     72\u001b[0m             \u001b[0;32mdel\u001b[0m \u001b[0mfiltered_tb\u001b[0m\u001b[0;34m\u001b[0m\u001b[0;34m\u001b[0m\u001b[0m\n",
            "\u001b[0;32m/usr/local/lib/python3.10/dist-packages/tensorflow/python/framework/tensor_shape.py\u001b[0m in \u001b[0;36m__init__\u001b[0;34m(self, value)\u001b[0m\n\u001b[1;32m    213\u001b[0m         \u001b[0;31m# int(...) compensates for the int/long dichotomy on Python 2.X.\u001b[0m\u001b[0;34m\u001b[0m\u001b[0;34m\u001b[0m\u001b[0m\n\u001b[1;32m    214\u001b[0m         \u001b[0;31m# TODO(b/143206389): Remove once we fully migrate to 3.X.\u001b[0m\u001b[0;34m\u001b[0m\u001b[0;34m\u001b[0m\u001b[0m\n\u001b[0;32m--> 215\u001b[0;31m         \u001b[0mself\u001b[0m\u001b[0;34m.\u001b[0m\u001b[0m_value\u001b[0m \u001b[0;34m=\u001b[0m \u001b[0mint\u001b[0m\u001b[0;34m(\u001b[0m\u001b[0mvalue\u001b[0m\u001b[0;34m.\u001b[0m\u001b[0m__index__\u001b[0m\u001b[0;34m(\u001b[0m\u001b[0;34m)\u001b[0m\u001b[0;34m)\u001b[0m\u001b[0;34m\u001b[0m\u001b[0;34m\u001b[0m\u001b[0m\n\u001b[0m\u001b[1;32m    216\u001b[0m       \u001b[0;32mexcept\u001b[0m \u001b[0mAttributeError\u001b[0m\u001b[0;34m:\u001b[0m\u001b[0;34m\u001b[0m\u001b[0;34m\u001b[0m\u001b[0m\n\u001b[1;32m    217\u001b[0m         raise TypeError(\n",
            "\u001b[0;31mTypeError\u001b[0m: only integer scalar arrays can be converted to a scalar index"
          ]
        }
      ],
      "source": [
        "import tensorflow as tf\n",
        "from tensorflow.keras import layers, models\n",
        "\n",
        "def lcnn_model(input_shape):\n",
        "    model = models.Sequential()\n",
        "\n",
        "    # Convolutional layers\n",
        "    model.add(layers.Conv2D(64, (3, 3), activation='relu', input_shape=input_shape))\n",
        "    model.add(layers.MaxPooling2D((2, 2)))\n",
        "\n",
        "    model.add(layers.Conv2D(128, (3, 3), activation='relu'))\n",
        "    model.add(layers.MaxPooling2D((2, 2)))\n",
        "\n",
        "    model.add(layers.Conv2D(256, (3, 3), activation='relu'))\n",
        "    model.add(layers.MaxPooling2D((2, 2)))\n",
        "\n",
        "    # Flatten layer\n",
        "    model.add(layers.Flatten())\n",
        "\n",
        "    # Dense layers\n",
        "    model.add(layers.Dense(512, activation='relu'))\n",
        "    model.add(layers.Dense(256, activation='relu'))\n",
        "\n",
        "    # Output layer with sigmoid activation for binary classification\n",
        "    model.add(layers.Dense(1, activation='sigmoid'))\n",
        "\n",
        "    return model\n",
        "\n",
        "# Assuming your input data has shape (num_samples, height, width, channels)\n",
        "input_shape = X_train_array.shape\n",
        "\n",
        "# Create LCNN model\n",
        "model = lcnn_model(reshaped_data)\n",
        "\n",
        "# Compile the model\n",
        "model.compile(optimizer='adam', loss='binary_crossentropy', metrics=['accuracy'])\n",
        "\n",
        "# Display the model summary\n",
        "model.summary()\n"
      ]
    },
    {
      "cell_type": "code",
      "execution_count": null,
      "metadata": {
        "id": "FAts2-W8eMWM"
      },
      "outputs": [],
      "source": [
        "import numpy as np\n",
        "\n",
        "# Assuming your original data has shape (5055, 13, 1249)\n",
        "original_data = np.random.rand(5055, 13, 1249)  # Replace this with your actual data\n",
        "\n",
        "# Reshape the data for a CNN or LCNN model\n",
        "height, width, channels = 13, 1249, 1  # You may need to adjust these values based on your data\n",
        "reshaped_data = X_train_array.reshape(-1, height, width, channels)\n",
        "\n",
        "# Now reshaped_data has shape (5055, 13, 1249, 1)\n"
      ]
    },
    {
      "cell_type": "code",
      "execution_count": null,
      "metadata": {
        "colab": {
          "base_uri": "https://localhost:8080/"
        },
        "id": "0VXPgPo9fHuE",
        "outputId": "0f4fbcc2-0f06-4ece-a5d8-46dbb38c24bf"
      },
      "outputs": [
        {
          "data": {
            "text/plain": [
              "array([[[[0.44929454],\n",
              "         [0.41854522],\n",
              "         [0.31365755],\n",
              "         ...,\n",
              "         [0.27297814],\n",
              "         [0.42674628],\n",
              "         [0.30397893]],\n",
              "\n",
              "        [[0.04783142],\n",
              "         [0.07583302],\n",
              "         [0.76177904],\n",
              "         ...,\n",
              "         [0.7344715 ],\n",
              "         [0.12566478],\n",
              "         [0.6387242 ]],\n",
              "\n",
              "        [[0.68253939],\n",
              "         [0.4602444 ],\n",
              "         [0.04166553],\n",
              "         ...,\n",
              "         [0.48015784],\n",
              "         [0.28960269],\n",
              "         [0.03533654]],\n",
              "\n",
              "        ...,\n",
              "\n",
              "        [[0.80489627],\n",
              "         [0.55042368],\n",
              "         [0.402834  ],\n",
              "         ...,\n",
              "         [0.63260845],\n",
              "         [0.56133691],\n",
              "         [0.38251065]],\n",
              "\n",
              "        [[0.92407071],\n",
              "         [0.27663498],\n",
              "         [0.27554839],\n",
              "         ...,\n",
              "         [0.76460443],\n",
              "         [0.95227367],\n",
              "         [0.31257656]],\n",
              "\n",
              "        [[0.63776071],\n",
              "         [0.25750375],\n",
              "         [0.38349153],\n",
              "         ...,\n",
              "         [0.67809482],\n",
              "         [0.27242333],\n",
              "         [0.76507219]]],\n",
              "\n",
              "\n",
              "       [[[0.68601437],\n",
              "         [0.1807316 ],\n",
              "         [0.7183487 ],\n",
              "         ...,\n",
              "         [0.61340639],\n",
              "         [0.16083114],\n",
              "         [0.22857377]],\n",
              "\n",
              "        [[0.72832739],\n",
              "         [0.45346744],\n",
              "         [0.62750873],\n",
              "         ...,\n",
              "         [0.35038133],\n",
              "         [0.3415202 ],\n",
              "         [0.72836427]],\n",
              "\n",
              "        [[0.79670364],\n",
              "         [0.97867052],\n",
              "         [0.81457641],\n",
              "         ...,\n",
              "         [0.25802712],\n",
              "         [0.82126081],\n",
              "         [0.87772296]],\n",
              "\n",
              "        ...,\n",
              "\n",
              "        [[0.15517553],\n",
              "         [0.17688192],\n",
              "         [0.51417651],\n",
              "         ...,\n",
              "         [0.49553237],\n",
              "         [0.94444814],\n",
              "         [0.45322077]],\n",
              "\n",
              "        [[0.64596831],\n",
              "         [0.09407288],\n",
              "         [0.64678536],\n",
              "         ...,\n",
              "         [0.10847942],\n",
              "         [0.00108414],\n",
              "         [0.78913468]],\n",
              "\n",
              "        [[0.35627821],\n",
              "         [0.65556692],\n",
              "         [0.23420153],\n",
              "         ...,\n",
              "         [0.69045135],\n",
              "         [0.98879185],\n",
              "         [0.93726146]]],\n",
              "\n",
              "\n",
              "       [[[0.44812297],\n",
              "         [0.72104648],\n",
              "         [0.11381948],\n",
              "         ...,\n",
              "         [0.8567606 ],\n",
              "         [0.42317086],\n",
              "         [0.50610421]],\n",
              "\n",
              "        [[0.30520051],\n",
              "         [0.74151963],\n",
              "         [0.53519243],\n",
              "         ...,\n",
              "         [0.11622074],\n",
              "         [0.16259801],\n",
              "         [0.44967031]],\n",
              "\n",
              "        [[0.30901722],\n",
              "         [0.46890513],\n",
              "         [0.473506  ],\n",
              "         ...,\n",
              "         [0.6484815 ],\n",
              "         [0.17079256],\n",
              "         [0.19886136]],\n",
              "\n",
              "        ...,\n",
              "\n",
              "        [[0.2112532 ],\n",
              "         [0.90680985],\n",
              "         [0.86576515],\n",
              "         ...,\n",
              "         [0.70347581],\n",
              "         [0.75462083],\n",
              "         [0.95350321]],\n",
              "\n",
              "        [[0.34674624],\n",
              "         [0.0163607 ],\n",
              "         [0.11278368],\n",
              "         ...,\n",
              "         [0.65374419],\n",
              "         [0.09624146],\n",
              "         [0.46758107]],\n",
              "\n",
              "        [[0.26184608],\n",
              "         [0.39821826],\n",
              "         [0.4417339 ],\n",
              "         ...,\n",
              "         [0.25008272],\n",
              "         [0.25744089],\n",
              "         [0.36372496]]],\n",
              "\n",
              "\n",
              "       ...,\n",
              "\n",
              "\n",
              "       [[[0.95254308],\n",
              "         [0.03247277],\n",
              "         [0.35613815],\n",
              "         ...,\n",
              "         [0.12399554],\n",
              "         [0.93246614],\n",
              "         [0.6376164 ]],\n",
              "\n",
              "        [[0.88303624],\n",
              "         [0.82238606],\n",
              "         [0.0015979 ],\n",
              "         ...,\n",
              "         [0.38717554],\n",
              "         [0.84199486],\n",
              "         [0.23787429]],\n",
              "\n",
              "        [[0.37612268],\n",
              "         [0.99222154],\n",
              "         [0.71021973],\n",
              "         ...,\n",
              "         [0.17120044],\n",
              "         [0.48821245],\n",
              "         [0.04656322]],\n",
              "\n",
              "        ...,\n",
              "\n",
              "        [[0.96083537],\n",
              "         [0.7654804 ],\n",
              "         [0.3160881 ],\n",
              "         ...,\n",
              "         [0.69823488],\n",
              "         [0.76681411],\n",
              "         [0.0648017 ]],\n",
              "\n",
              "        [[0.9421827 ],\n",
              "         [0.47640781],\n",
              "         [0.27193384],\n",
              "         ...,\n",
              "         [0.08645886],\n",
              "         [0.45325965],\n",
              "         [0.67574128]],\n",
              "\n",
              "        [[0.97627443],\n",
              "         [0.56936103],\n",
              "         [0.64475496],\n",
              "         ...,\n",
              "         [0.41993002],\n",
              "         [0.28572191],\n",
              "         [0.15616579]]],\n",
              "\n",
              "\n",
              "       [[[0.10042018],\n",
              "         [0.06318597],\n",
              "         [0.73188061],\n",
              "         ...,\n",
              "         [0.48968315],\n",
              "         [0.40710822],\n",
              "         [0.32060749]],\n",
              "\n",
              "        [[0.85302718],\n",
              "         [0.12579546],\n",
              "         [0.85854538],\n",
              "         ...,\n",
              "         [0.78941546],\n",
              "         [0.21738155],\n",
              "         [0.20272034]],\n",
              "\n",
              "        [[0.11243387],\n",
              "         [0.0928374 ],\n",
              "         [0.03716032],\n",
              "         ...,\n",
              "         [0.23570811],\n",
              "         [0.85469361],\n",
              "         [0.47603748]],\n",
              "\n",
              "        ...,\n",
              "\n",
              "        [[0.66794979],\n",
              "         [0.5111712 ],\n",
              "         [0.81867086],\n",
              "         ...,\n",
              "         [0.10301705],\n",
              "         [0.28526175],\n",
              "         [0.65336854]],\n",
              "\n",
              "        [[0.48551063],\n",
              "         [0.6154083 ],\n",
              "         [0.32453471],\n",
              "         ...,\n",
              "         [0.39530068],\n",
              "         [0.47744964],\n",
              "         [0.80296267]],\n",
              "\n",
              "        [[0.72903338],\n",
              "         [0.80559995],\n",
              "         [0.28469711],\n",
              "         ...,\n",
              "         [0.21868749],\n",
              "         [0.51251364],\n",
              "         [0.18395885]]],\n",
              "\n",
              "\n",
              "       [[[0.95436782],\n",
              "         [0.62627393],\n",
              "         [0.03882312],\n",
              "         ...,\n",
              "         [0.26952961],\n",
              "         [0.21073265],\n",
              "         [0.1895341 ]],\n",
              "\n",
              "        [[0.6354586 ],\n",
              "         [0.50400369],\n",
              "         [0.06623671],\n",
              "         ...,\n",
              "         [0.29485433],\n",
              "         [0.04663588],\n",
              "         [0.17950459]],\n",
              "\n",
              "        [[0.64796679],\n",
              "         [0.34964043],\n",
              "         [0.55919992],\n",
              "         ...,\n",
              "         [0.19670109],\n",
              "         [0.26947997],\n",
              "         [0.8640212 ]],\n",
              "\n",
              "        ...,\n",
              "\n",
              "        [[0.260808  ],\n",
              "         [0.92133365],\n",
              "         [0.89183748],\n",
              "         ...,\n",
              "         [0.01827829],\n",
              "         [0.56051119],\n",
              "         [0.15737139]],\n",
              "\n",
              "        [[0.47695859],\n",
              "         [0.25167622],\n",
              "         [0.62689094],\n",
              "         ...,\n",
              "         [0.95353498],\n",
              "         [0.69450099],\n",
              "         [0.01629952]],\n",
              "\n",
              "        [[0.50543981],\n",
              "         [0.31420857],\n",
              "         [0.03130443],\n",
              "         ...,\n",
              "         [0.26504498],\n",
              "         [0.99510876],\n",
              "         [0.12296784]]]])"
            ]
          },
          "execution_count": 23,
          "metadata": {},
          "output_type": "execute_result"
        }
      ],
      "source": [
        "reshaped_data"
      ]
    }
  ],
  "metadata": {
    "colab": {
      "collapsed_sections": [
        "XAjG8XG65kSs"
      ],
      "toc_visible": true,
      "provenance": []
    },
    "kernelspec": {
      "display_name": "Python 3",
      "name": "python3"
    },
    "language_info": {
      "name": "python"
    }
  },
  "nbformat": 4,
  "nbformat_minor": 0
}